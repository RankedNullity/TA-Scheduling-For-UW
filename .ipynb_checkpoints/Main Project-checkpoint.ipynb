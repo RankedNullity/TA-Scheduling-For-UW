{
 "cells": [
  {
   "cell_type": "code",
   "execution_count": 18,
   "metadata": {},
   "outputs": [
    {
     "name": "stdout",
     "output_type": "stream",
     "text": [
      "The slots  [41, 42, 43, 44, 45]  are of cardinality 2\n",
      "There are  5  slots\n",
      "Expected Number of Vetern TA's per slot:  1.0\n",
      "\n",
      "The slots  [0, 1, 2, 3, 7, 8, 9, 10, 17, 18, 19, 20, 26, 27, 35, 36, 37, 38, 39, 40]  are of cardinality 3\n",
      "There are  20  slots\n",
      "Expected Number of Vetern TA's per slot:  1.45\n",
      "\n",
      "The slots  [4, 5, 6, 11, 12, 13, 14, 21, 22, 23, 25, 28, 29, 30, 31, 34]  are of cardinality 4\n",
      "There are  16  slots\n",
      "Expected Number of Vetern TA's per slot:  2.1025\n",
      "\n",
      "The slots  [16, 24, 32, 33]  are of cardinality 5\n",
      "There are  4  slots\n",
      "Expected Number of Vetern TA's per slot:  3.048625\n",
      "\n",
      "The slots  [15]  are of cardinality 6\n",
      "There are  1  slots\n",
      "Expected Number of Vetern TA's per slot:  4.42050625\n",
      "\n"
     ]
    }
   ],
   "source": [
    "compositeReqs = [3, 3, 3, 3, 4, 4, 4, 3, 3, 3, 3, 4, 4, 4, 4, 6, 5, 3, 3, 3, 3, 4, 4, 4, 5, 4, 3, 3, 4, 4, 4, 4, 5, 5, 4, 3, 3, 3, 3, 3, 3, 2, 2, 2, 2, 2];\n",
    "len(compositeReqs)\n",
    "\n",
    "def findIndicesOf(x, array):\n",
    "    count = [];\n",
    "    for i in range(0, len(array)):\n",
    "        if array[i] == x:\n",
    "            count.append(i);\n",
    "    return count;\n",
    "\n",
    "\n",
    "total = 0;\n",
    "expectedVet = [];\n",
    "for i in range(2,7):\n",
    "    total += i;\n",
    "    array = findIndicesOf(i, compositeReqs);\n",
    "    print(\"The slots \", array , \" are of cardinality\",  i);\n",
    "    print(\"There are \", len(array), \" slots\");\n",
    "    expectedVet.append(1.45 ** (i - 2))\n",
    "    print(\"Expected Number of Vetern TA's per slot: \", expectedVet[i - 2]);\n",
    "    print(\"\")\n",
    "    "
   ]
  },
  {
   "cell_type": "markdown",
   "metadata": {},
   "source": [
    "# Constraints\n",
    "    "
   ]
  },
  {
   "cell_type": "code",
   "execution_count": null,
   "metadata": {},
   "outputs": [],
   "source": [
    "from gurobipy import *\n",
    "m = Model()\n",
    "\n",
    "indicies = [(i,j) for i in range(46) for j in range(1)]\n",
    "var = m.addVars(indicies, vtype=GRB.INTEGER)\n",
    "\n",
    "def mean(i):\n",
    "    total = 0\n",
    "    count = 0\n",
    "    for j in range(len(compositeReqs)):\n",
    "        if compositeReqs[j] == i:\n",
    "            total += var[j,1]\n",
    "            count += 1\n",
    "    return total*(1/count)\n",
    "\n",
    "f=0\n",
    "for i in range(2,7):\n",
    "    avg = mean(i)\n",
    "    p1 = (avg - expectedVet[i - 2]) * (avg - expectedVet[i - 2])\n",
    "    for j in range(len(compositeReqs)):\n",
    "        \n",
    "    \n",
    "    \n",
    "    \n",
    "        "
   ]
  }
 ],
 "metadata": {
  "kernelspec": {
   "display_name": "Python 3",
   "language": "python",
   "name": "python3"
  },
  "language_info": {
   "codemirror_mode": {
    "name": "ipython",
    "version": 3
   },
   "file_extension": ".py",
   "mimetype": "text/x-python",
   "name": "python",
   "nbconvert_exporter": "python",
   "pygments_lexer": "ipython3",
   "version": "3.7.0"
  }
 },
 "nbformat": 4,
 "nbformat_minor": 2
}
