{
 "cells": [
  {
   "cell_type": "code",
   "execution_count": 8,
   "metadata": {},
   "outputs": [
    {
     "name": "stdout",
     "output_type": "stream",
     "text": [
      "Jefferson: [2, 3, 3, 3, 3, 4, 3, 3, 3, 3, 3, 4, 4, 4, 4, 5, 5, 3, 3, 2, 3, 4, 4, 4, 4, 4, 3, 3, 4, 4, 3, 4, 5, 5, 4, 3, 3, 3, 3, 3, 2, 2, 2, 2, 2, 2]  Sum:  152\n",
      "Adam:      [3, 3, 3, 3, 3, 4, 3, 3, 3, 3, 3, 4, 4, 4, 4, 5, 5, 3, 3, 3, 3, 3, 4, 4, 4, 4, 3, 3, 4, 4, 3, 4, 4, 4, 4, 3, 3, 3, 3, 3, 3, 2, 2, 2, 2, 2]  Sum:  152\n"
     ]
    }
   ],
   "source": [
    "#Apportionment Methods\n",
    "import math;\n",
    "\n",
    "STEP_SIZE = 0.01;\n",
    "\n",
    "# Jefferson's Method\n",
    "# @param student_distr {Array} - number of students per slot \n",
    "# @param TAs {int} - Total Number of TAs available\n",
    "# @returns {Array} - distribution of TAs using Jefferson's Method\n",
    "def Jefferson(student_distr, TAs):\n",
    "    total_student = sum(student_distr);\n",
    "    std_divisor = total_student / TAs;\n",
    "    exact_quota = [i / std_divisor for i in student_distr];\n",
    "    result = [math.floor(i) for i in exact_quota]\n",
    "    while sum(result) < TAs:\n",
    "        std_divisor -= STEP_SIZE;\n",
    "        exact_quota = [i / std_divisor for i in student_distr];\n",
    "        result = [math.floor(i) for i in exact_quota]\n",
    "    return result;\n",
    "\n",
    "# Adam's Method\n",
    "# @param student_distr {Array} - number of students per slot \n",
    "# @param TAs {int} - Total Number of TAs available\n",
    "# @returns {Array} - distribution of TAs using Adam's Method\n",
    "def Adam(student_distr, TAs):\n",
    "    total_student = sum(student_distr);\n",
    "    std_divisor = total_student / TAs;\n",
    "    exact_quota = [i / std_divisor for i in student_distr];\n",
    "    result = [math.ceil(i) for i in exact_quota]\n",
    "    while sum(result) > TAs:\n",
    "        std_divisor += STEP_SIZE;\n",
    "        exact_quota = [i / std_divisor for i in student_distr];\n",
    "        result = [math.ceil(i) for i in exact_quota]\n",
    "    return result;\n",
    "\n",
    "\n",
    "data = [319, 375, 348, 393, 407, 443, 418, 327, 326, 367, 327, 436, 460, 474, 500, 625, 588, 349, 357, 315, 370, 430, 440, 471, 519, 494, 385, 369, 455, 442, 420, 498, 565, 566, 442, 357, 364, 321, 397, 361, 312, 221, 284, 265, 247, 277]\n",
    "totalTAHours = 152;\n",
    "\n",
    "jeff = Jefferson(data, totalTAHours)\n",
    "adam = Adam(data, totalTAHours)\n",
    "print(\"Jefferson:\" , jeff, \" Sum: \" , sum(jeff))\n",
    "print(\"Adam:     \", adam, \" Sum: \" , sum(adam))\n",
    "\n",
    "    "
   ]
  }
 ],
 "metadata": {
  "kernelspec": {
   "display_name": "Python 3",
   "language": "python",
   "name": "python3"
  },
  "language_info": {
   "codemirror_mode": {
    "name": "ipython",
    "version": 3
   },
   "file_extension": ".py",
   "mimetype": "text/x-python",
   "name": "python",
   "nbconvert_exporter": "python",
   "pygments_lexer": "ipython3",
   "version": "3.7.0"
  }
 },
 "nbformat": 4,
 "nbformat_minor": 2
}
