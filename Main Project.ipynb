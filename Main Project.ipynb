{
 "cells": [
  {
   "cell_type": "code",
   "execution_count": 61,
   "metadata": {},
   "outputs": [
    {
     "name": "stdout",
     "output_type": "stream",
     "text": [
      "The slots  [41, 42, 43, 44, 45]  are of cardinality 2\n",
      "There are  5  slots\n",
      "Expected Number of Vetern TA's per slot:  1.0\n",
      "\n",
      "The slots  [0, 1, 2, 3, 7, 8, 9, 10, 17, 18, 19, 20, 26, 27, 35, 36, 37, 38, 39, 40]  are of cardinality 3\n",
      "There are  20  slots\n",
      "Expected Number of Vetern TA's per slot:  1.45\n",
      "\n",
      "The slots  [4, 5, 6, 11, 12, 13, 14, 21, 22, 23, 25, 28, 29, 30, 31, 34]  are of cardinality 4\n",
      "There are  16  slots\n",
      "Expected Number of Vetern TA's per slot:  2.1025\n",
      "\n",
      "The slots  [16, 24, 32, 33]  are of cardinality 5\n",
      "There are  4  slots\n",
      "Expected Number of Vetern TA's per slot:  3.048625\n",
      "\n",
      "The slots  [15]  are of cardinality 6\n",
      "There are  1  slots\n",
      "Expected Number of Vetern TA's per slot:  4.42050625\n",
      "\n",
      "[1.0, 1.45, 2.1025, 3.048625, 4.42050625]\n"
     ]
    }
   ],
   "source": [
    "compositeReqs = [3, 3, 3, 3, 4, 4, 4, 3, 3, 3, 3, 4, 4, 4, 4, 6, 5, 3, 3, 3, 3, 4, 4, 4, 5, 4, 3, 3, 4, 4, 4, 4, 5, 5, 4, 3, 3, 3, 3, 3, 3, 2, 2, 2, 2, 2];\n",
    "len(compositeReqs)\n",
    "\n",
    "def findIndicesOf(x, array):\n",
    "    count = [];\n",
    "    for i in range(0, len(array)):\n",
    "        if array[i] == x:\n",
    "            count.append(i);\n",
    "    return count;\n",
    "\n",
    "\n",
    "total = 0;\n",
    "expectedVet = [];\n",
    "\n",
    "for i in range(2,7):\n",
    "    total += i;\n",
    "    array = findIndicesOf(i, compositeReqs);\n",
    "    print(\"The slots \", array , \" are of cardinality\",  i);\n",
    "    counts.append(len(array));\n",
    "    print(\"There are \", len(array), \" slots\");\n",
    "    expectedVet.append(1.45 ** (i - 2))\n",
    "    print(\"Expected Number of Vetern TA's per slot: \", expectedVet[i - 2]);\n",
    "    print(\"\")\n",
    "    \n",
    "print(expectedVet)"
   ]
  },
  {
   "cell_type": "markdown",
   "metadata": {},
   "source": [
    "# Constraints\n",
    "    "
   ]
  },
  {
   "cell_type": "code",
   "execution_count": 116,
   "metadata": {
    "scrolled": true
   },
   "outputs": [
    {
     "name": "stdout",
     "output_type": "stream",
     "text": [
      "Optimize a model with 93 rows, 46 columns and 138 nonzeros\n",
      "Model has 90 quadratic objective terms\n",
      "Variable types: 0 continuous, 46 integer (0 binary)\n",
      "Coefficient statistics:\n",
      "  Matrix range     [1e+00, 1e+00]\n",
      "  Objective range  [2e+00, 9e+00]\n",
      "  QObjective range [1e-01, 4e+00]\n",
      "  Bounds range     [0e+00, 0e+00]\n",
      "  RHS range        [1e+00, 8e+01]\n",
      "Found heuristic solution: objective 32.8497336\n",
      "Presolve removed 92 rows and 0 columns\n",
      "Presolve time: 0.00s\n",
      "Presolved: 1 rows, 46 columns, 46 nonzeros\n",
      "Presolved model has 90 quadratic objective terms\n",
      "Variable types: 0 continuous, 46 integer (0 binary)\n",
      "\n",
      "Root relaxation: objective 5.590552e-01, 44 iterations, 0.00 seconds\n",
      "\n",
      "    Nodes    |    Current Node    |     Objective Bounds      |     Work\n",
      " Expl Unexpl |  Obj  Depth IntInf | Incumbent    BestBd   Gap | It/Node Time\n",
      "\n",
      "     0     0    0.55906    0   40   32.84973    0.55906  98.3%     -    0s\n",
      "H    0     0                       0.7046961    0.55906  20.7%     -    0s\n",
      "     0     0     cutoff    0         0.70470    0.70470  0.00%     -    0s\n",
      "\n",
      "Explored 1 nodes (52 simplex iterations) in 0.04 seconds\n",
      "Thread count was 4 (of 4 available processors)\n",
      "\n",
      "Solution count 2: 0.704696 32.8497 \n",
      "\n",
      "Optimal solution found (tolerance 1.00e-04)\n",
      "Best objective 7.046961469135e-01, best bound 7.046961469135e-01, gap 0.0000%\n",
      "[1.0, 1.0, 1.0, 1.0, 1.0]\n",
      "[1.0, 1.0, 1.0, 1.0, 1.0, 1.0, 1.0, 1.0, 1.0, 1.0, 1.0, 1.0, 1.0, 1.0, 1.0, 1.0, 1.0, 1.0, 1.0, 1.0]\n",
      "[2.0, 3.0, 4.0, 2.0, 2.0, 2.0, 2.0, 2.0, 2.0, 2.0, 2.0, 2.0, 2.0, 2.0, 2.0, 2.0]\n",
      "[3.0, 3.0, 3.0, 3.0]\n",
      "[4.0]\n"
     ]
    }
   ],
   "source": [
    "from gurobipy import *\n",
    "m = Model()\n",
    "\n",
    "indicies = [i for i in range(46)]\n",
    "var = m.addVars(indicies, vtype=GRB.INTEGER)\n",
    "\n",
    "def mean(arr, i):\n",
    "    total = 0\n",
    "    for j in range(len(compositeReqs)):\n",
    "        if compositeReqs[j] == i:\n",
    "            total += arr[i];\n",
    "    return total * ( 1.0 / counts[i - 2])\n",
    "\n",
    "def sum():\n",
    "    total = 0;\n",
    "    for i in range(len(compositeReqs)):\n",
    "        total += var[i];\n",
    "    return total;\n",
    "\n",
    "def findList(arr):\n",
    "    l = {};\n",
    "    for i in range(5):\n",
    "        l[i] = [];\n",
    "    for i in range(len(arr)):\n",
    "        l[compositeReqs[i] - 2].append(arr[i]);\n",
    "    return l;\n",
    "\n",
    "\n",
    "def printArr(twoArr):\n",
    "    for i in range(len(twoArr)):\n",
    "        print(twoArr[i]);\n",
    "\n",
    "f = 0;\n",
    "for i in range(2,7):\n",
    "    avg = mean(var, i)\n",
    "    p1 = (avg - expectedVet[i - 2]) * (avg - expectedVet[i - 2])\n",
    "    total = 0\n",
    "    for j in range(len(compositeReqs)):\n",
    "        if compositeReqs[j] == i:\n",
    "            total += (var[j] - avg) * (var[j] - avg);\n",
    "    variance = total * ( 1.0 / counts[ i - 2]);\n",
    "    f += p1 + variance;\n",
    "    \n",
    "    \n",
    "    \n",
    "m.setObjective(f, GRB.MINIMIZE);\n",
    "m.addConstr(sum() == 76);\n",
    "\n",
    "for i in range(len(compositeReqs)):\n",
    "    m.addConstr(var[i] >= 1);\n",
    "    m.addConstr(var[i] <= compositeReqs[i]);\n",
    "\n",
    "\n",
    "m.optimize();\n",
    "something = m.getAttr(\"x\", m.getVars())\n",
    "l = findList(something)\n",
    "printArr(l);"
   ]
  },
  {
   "cell_type": "code",
   "execution_count": null,
   "metadata": {},
   "outputs": [],
   "source": []
  },
  {
   "cell_type": "code",
   "execution_count": null,
   "metadata": {},
   "outputs": [],
   "source": []
  }
 ],
 "metadata": {
  "kernelspec": {
   "display_name": "Python 3",
   "language": "python",
   "name": "python3"
  },
  "language_info": {
   "codemirror_mode": {
    "name": "ipython",
    "version": 3
   },
   "file_extension": ".py",
   "mimetype": "text/x-python",
   "name": "python",
   "nbconvert_exporter": "python",
   "pygments_lexer": "ipython3",
   "version": "3.7.0"
  }
 },
 "nbformat": 4,
 "nbformat_minor": 2
}
