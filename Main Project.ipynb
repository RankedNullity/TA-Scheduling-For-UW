{
 "cells": [
  {
   "cell_type": "code",
   "execution_count": 41,
   "metadata": {},
   "outputs": [
    {
     "name": "stdout",
     "output_type": "stream",
     "text": [
      "The slots  [41, 42, 43, 44, 45]  are of cardinality 2\n",
      "There are  5  slots\n",
      "Expected Number of Vetern TA's per slot:  0.2\n",
      "\n",
      "The slots  [0, 1, 2, 3, 7, 8, 9, 10, 17, 18, 19, 20, 26, 27, 35, 36, 37, 38, 39, 40]  are of cardinality 3\n",
      "There are  20  slots\n",
      "Expected Number of Vetern TA's per slot:  0.45\n",
      "\n",
      "The slots  [4, 5, 6, 11, 12, 13, 14, 21, 22, 23, 25, 28, 29, 30, 31, 34]  are of cardinality 4\n",
      "There are  16  slots\n",
      "Expected Number of Vetern TA's per slot:  0.8\n",
      "\n",
      "The slots  [16, 24, 32, 33]  are of cardinality 5\n",
      "There are  4  slots\n",
      "Expected Number of Vetern TA's per slot:  1.25\n",
      "\n"
     ]
    }
   ],
   "source": [
    "compositeReqs = [3, 3, 3, 3, 4, 4, 4, 3, 3, 3, 3, 4, 4, 4, 4, 6, 5, 3, 3, 3, 3, 4, 4, 4, 5, 4, 3, 3, 4, 4, 4, 4, 5, 5, 4, 3, 3, 3, 3, 3, 3, 2, 2, 2, 2, 2];\n",
    "len(compositeReqs)\n",
    "\n",
    "def findIndicesOf(x, array):\n",
    "    count = [];\n",
    "    for i in range(0, len(array)):\n",
    "        if array[i] == x:\n",
    "            count.append(i);\n",
    "    return count;\n",
    "\n",
    "\n",
    "total = 0;\n",
    "for i in range(2,6):\n",
    "    total += i;\n",
    "    array = findIndicesOf(i, compositeReqs);\n",
    "    print(\"The slots \", array , \" are of cardinality\",  i);\n",
    "    print(\"There are \", len(array), \" slots\");\n",
    "    print(\"Expected Number of Vetern TA's per slot: \", i * i / 20);\n",
    "    print(\"\");\n",
    "    "
   ]
  },
  {
   "cell_type": "markdown",
   "metadata": {},
   "source": [
    "# Constraints\n",
    "    "
   ]
  },
  {
   "cell_type": "code",
   "execution_count": null,
   "metadata": {},
   "outputs": [],
   "source": []
  }
 ],
 "metadata": {
  "kernelspec": {
   "display_name": "Python 3",
   "language": "python",
   "name": "python3"
  },
  "language_info": {
   "codemirror_mode": {
    "name": "ipython",
    "version": 3
   },
   "file_extension": ".py",
   "mimetype": "text/x-python",
   "name": "python",
   "nbconvert_exporter": "python",
   "pygments_lexer": "ipython3",
   "version": "3.7.0"
  }
 },
 "nbformat": 4,
 "nbformat_minor": 2
}
